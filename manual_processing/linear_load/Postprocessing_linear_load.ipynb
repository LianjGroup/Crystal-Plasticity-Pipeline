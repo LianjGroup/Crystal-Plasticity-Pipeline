{
 "cells": [
  {
   "cell_type": "code",
   "execution_count": 9,
   "id": "initial_id",
   "metadata": {
    "collapsed": true,
    "ExecuteTime": {
     "end_time": "2023-12-15T07:40:38.278980Z",
     "start_time": "2023-12-15T07:40:36.879494Z"
    }
   },
   "outputs": [],
   "source": [
    "import numpy as np\n",
    "import matplotlib.pyplot as plt\n",
    "import damask\n"
   ]
  },
  {
   "cell_type": "markdown",
   "source": [
    "### 1. Read the simulation results"
   ],
   "metadata": {
    "collapsed": false
   },
   "id": "78ee87d4c4f38c73"
  },
  {
   "cell_type": "code",
   "execution_count": 10,
   "id": "cf08fee9f7173a4",
   "metadata": {
    "collapsed": false,
    "ExecuteTime": {
     "end_time": "2023-12-15T07:40:38.321766Z",
     "start_time": "2023-12-15T07:40:38.281118Z"
    }
   },
   "outputs": [
    {
     "data": {
      "text/plain": "\u001B[2mCreated by /usr/bin/DAMASK_grid v3.0.0-alpha7\n        on 2023-12-07 09:52:40+0200\n executing \"/usr/bin/DAMASK_grid --load /scratch/project_2008630/test/AA5754_DB/loads/linear_UAT_RD_tensionX.yaml --geom newAL.vti\"\u001B[0m\n\nincrement_0 (0.0 s)\n  phase\n    Aluminum\n      mechanical\n        F / 1: deformation gradient\n        F_e / 1: elastic deformation gradient\n        F_p / 1: plastic deformation gradient\n        F_vM / 1: Mises equivalent strain of F (deformation gradient)\n        IPFcolor_(1 0 0) / 8-bit RGB: Inverse Pole Figure (IPF) colors along sample direction (1 0 0)\n        L_p / 1/s: plastic velocity gradient\n        O / q_0 (q_1 q_2 q_3): crystal orientation as quaternion\n        P / Pa: first Piola-Kirchhoff stress\n        epsilon_U^0.0(F) / 1: strain tensor of F (deformation gradient)\n        epsilon_U^0.0(F_p) / 1: strain tensor of F_p (plastic deformation gradient)\n        epsilon_U^0.0(F_p)_vM / 1: Mises equivalent strain of epsilon_U^0.0(F_p) (strain tensor of F_p (plastic deformation gradient))\n        epsilon_V^0.0(F) / 1: strain tensor of F (deformation gradient)\n        epsilon_V^0.0(F)_vM / 1: Mises equivalent strain of epsilon_V^0.0(F) (strain tensor of F (deformation gradient))\n        epsilon_V^0.0(F_p) / 1: strain tensor of F_p (plastic deformation gradient)\n        rho_dip / 1/m²: dislocation dipole density\n        rho_mob / 1/m²: mobile dislocation density\n        sigma / Pa: Cauchy stress calculated from P (first Piola-Kirchhoff stress) and F (deformation gradient)\n        sigma_vM / Pa: Mises equivalent stress of sigma (Cauchy stress calculated from P (first Piola-Kirchhoff stress) and F (deformation gradient))\n  homogenization\n    SX\n      mechanical\n\nincrement_2\n  ...\n\nincrement_4\n  ...\n\nincrement_6\n  ...\n\nincrement_8\n  ...\n\nincrement_10\n  ...\n\nincrement_12\n  ...\n\nincrement_14\n  ...\n\nincrement_16\n  ...\n\nincrement_18\n  ...\n\nincrement_20\n  ...\n\nincrement_24\n  ...\n\nincrement_28\n  ...\n\nincrement_32\n  ...\n\nincrement_36\n  ...\n\nincrement_40\n  ...\n\nincrement_44\n  ...\n\nincrement_48\n  ...\n\nincrement_52\n  ...\n\nincrement_56\n  ...\n\nincrement_60\n  ...\n\nincrement_64\n  ...\n\nincrement_68\n  ...\n\nincrement_72\n  ...\n\nincrement_76\n  ...\n\nincrement_80\n  ...\n\nincrement_84\n  ...\n\nincrement_88\n  ...\n\nincrement_92\n  ...\n\nincrement_96\n  ...\n\nincrement_100\n  ...\n\nincrement_104\n  ...\n\nincrement_108\n  ...\n\nincrement_112\n  ...\n\nincrement_116\n  ...\n\nincrement_120\n  ...\n\nincrement_124\n  ...\n\nincrement_128\n  ...\n\nincrement_132\n  ...\n\nincrement_136\n  ...\n\nincrement_140 (2020.0 s)\n  phase\n    Aluminum\n      mechanical\n        F / 1: deformation gradient\n        F_e / 1: elastic deformation gradient\n        F_p / 1: plastic deformation gradient\n        F_vM / 1: Mises equivalent strain of F (deformation gradient)\n        IPFcolor_(1 0 0) / 8-bit RGB: Inverse Pole Figure (IPF) colors along sample direction (1 0 0)\n        L_p / 1/s: plastic velocity gradient\n        O / q_0 (q_1 q_2 q_3): crystal orientation as quaternion\n        P / Pa: first Piola-Kirchhoff stress\n        epsilon_U^0.0(F) / 1: strain tensor of F (deformation gradient)\n        epsilon_U^0.0(F_p) / 1: strain tensor of F_p (plastic deformation gradient)\n        epsilon_U^0.0(F_p)_vM / 1: Mises equivalent strain of epsilon_U^0.0(F_p) (strain tensor of F_p (plastic deformation gradient))\n        epsilon_V^0.0(F) / 1: strain tensor of F (deformation gradient)\n        epsilon_V^0.0(F)_vM / 1: Mises equivalent strain of epsilon_V^0.0(F) (strain tensor of F (deformation gradient))\n        epsilon_V^0.0(F_p) / 1: strain tensor of F_p (plastic deformation gradient)\n        rho_dip / 1/m²: dislocation dipole density\n        rho_mob / 1/m²: mobile dislocation density\n        sigma / Pa: Cauchy stress calculated from P (first Piola-Kirchhoff stress) and F (deformation gradient)\n        sigma_vM / Pa: Mises equivalent stress of sigma (Cauchy stress calculated from P (first Piola-Kirchhoff stress) and F (deformation gradient))\n  homogenization\n    SX\n      mechanical"
     },
     "execution_count": 10,
     "metadata": {},
     "output_type": "execute_result"
    }
   ],
   "source": [
    "from pathlib import Path\n",
    "path = Path()\n",
    "file = path.joinpath('newAL_linear_UAT_RD_tensionX.hdf5')\n",
    "result = damask.Result(file)\n",
    "result "
   ]
  },
  {
   "cell_type": "markdown",
   "source": [
    "### 2. Adding a bunch of calculation to the result"
   ],
   "metadata": {
    "collapsed": false
   },
   "id": "522d53e04b783cf2"
  },
  {
   "cell_type": "code",
   "execution_count": 11,
   "outputs": [
    {
     "name": "stderr",
     "output_type": "stream",
     "text": [
      " ██████████████████████████████████████████████████ 100% ETA 0:00:00\n",
      " ░░░░░░░░░░░░░░░░░░░░░░░░░░░░░░░░░░░░░░░░░░░░░░░░░░   0% ETA n/a"
     ]
    }
   ],
   "source": [
    "try:\n",
    "    # Try to add the stress Cauchy if it's not in the result\n",
    "    if 'sigma' not in result.get():\n",
    "        result.add_stress_Cauchy()\n",
    "\n",
    "    # Try to add the strain 'F' and 'F_p' if they're not in the result\n",
    "    if 'F' not in result.get():\n",
    "        result.add_strain('F', 'U')\n",
    "    if 'F_p' not in result.get():\n",
    "        result.add_strain('F_p', 'U')\n",
    "\n",
    "    # Try to add the equivalent Mises 'sigma' and 'F' if they're not in the result\n",
    "    if 'sigma_vM' not in result.get():\n",
    "        result.add_equivalent_Mises('sigma')\n",
    "    if 'F_vM' not in result.get():\n",
    "        result.add_equivalent_Mises('F')\n",
    "\n",
    "    # Try to add the strain and strain 'F_p' if they're not in the result\n",
    "    if 'epsilon_V^0.0(F)' not in result.get():\n",
    "        result.add_strain()\n",
    "        result.add_strain('F_p')\n",
    "\n",
    "    # Try to add the equivalent Mises 'epsilon_V^0.0(F)' and 'epsilon_U^0.0(F_p)' if they're not in the result\n",
    "    if 'epsilon_V^0.0(F)_vM' not in result.get():\n",
    "        result.add_equivalent_Mises('epsilon_V^0.0(F)')\n",
    "    if 'epsilon_U^0.0(F_p)_vM' not in result.get():\n",
    "        result.add_equivalent_Mises('epsilon_U^0.0(F_p)')\n",
    "\n",
    "    # Try to add the IPF color if it's not in the result\n",
    "    if 'IPFcolor_(1 0 0)' not in result.get():\n",
    "        result.add_IPF_color(np.array([1,0,0]))\n",
    "except:\n",
    "    pass"
   ],
   "metadata": {
    "collapsed": false,
    "ExecuteTime": {
     "end_time": "2023-12-15T07:40:46.848786Z",
     "start_time": "2023-12-15T07:40:38.321398Z"
    }
   },
   "id": "d20628bebc8ca157"
  },
  {
   "cell_type": "markdown",
   "source": [
    "### 3. Extracting the experimental data and ploting the results"
   ],
   "metadata": {
    "collapsed": false
   },
   "id": "51a13599efbf7c3f"
  },
  {
   "cell_type": "code",
   "execution_count": 12,
   "outputs": [
    {
     "data": {
      "text/plain": "[<matplotlib.lines.Line2D at 0x28a6713f0>]"
     },
     "execution_count": 12,
     "metadata": {},
     "output_type": "execute_result"
    },
    {
     "data": {
      "text/plain": "<Figure size 432x288 with 1 Axes>",
      "image/png": "[encoded data removed]"
     },
     "metadata": {
      "needs_background": "light"
     },
     "output_type": "display_data"
    }
   ],
   "source": [
    "from pathlib import Path\n",
    "from matplotlib import pyplot as plt\n",
    "path = Path()\n",
    "file = path.joinpath('Book1.csv')\n",
    "import csv\n",
    "ex_epsilon = []\n",
    "ex_sigma = []\n",
    "\n",
    "with open(file) as file:\n",
    "    reader = csv.reader(file)\n",
    "    next(reader)  # Skip the header row\n",
    "    for row in reader:\n",
    "        epsilon_str = row[0]\n",
    "        sigma_str = row[1]\n",
    "\n",
    "        if epsilon_str and sigma_str:\n",
    "            try:\n",
    "                ex_epsilon.append(float(epsilon_str))\n",
    "                ex_sigma.append(float(sigma_str))\n",
    "            except ValueError:\n",
    "                pass\n",
    "plt.plot(ex_epsilon, [s*1e-3 for s in ex_sigma])"
   ],
   "metadata": {
    "collapsed": false,
    "ExecuteTime": {
     "end_time": "2023-12-15T07:40:47.042661Z",
     "start_time": "2023-12-15T07:40:46.856371Z"
    }
   },
   "id": "9a31e8c0be2df715"
  },
  {
   "cell_type": "code",
   "execution_count": 13,
   "outputs": [],
   "source": [
    "#### 4. Plotting the stress-strain curve of the simulation and the experiment"
   ],
   "metadata": {
    "collapsed": false,
    "ExecuteTime": {
     "end_time": "2023-12-15T07:40:47.043081Z",
     "start_time": "2023-12-15T07:40:47.027627Z"
    }
   },
   "id": "fc63bfacab66dffb"
  },
  {
   "cell_type": "code",
   "execution_count": 14,
   "id": "b7ff04f7a2023ca1",
   "metadata": {
    "collapsed": false,
    "ExecuteTime": {
     "end_time": "2023-12-15T07:40:47.420854Z",
     "start_time": "2023-12-15T07:40:47.035570Z"
    }
   },
   "outputs": [
    {
     "name": "stderr",
     "output_type": "stream",
     "text": [
      " ██████████████████████████████████████████████████ 100% ETA 0:00:00\n",
      " ██████████████████████████████████████████████████ 100% ETA 0:00:00\n"
     ]
    },
    {
     "data": {
      "text/plain": "Text(0.5, 1.0, 'True stress-strain Curve')"
     },
     "execution_count": 14,
     "metadata": {},
     "output_type": "execute_result"
    },
    {
     "data": {
      "text/plain": "<Figure size 432x288 with 1 Axes>",
      "image/png": "[encoded data removed]"
     },
     "metadata": {
      "needs_background": "light"
     },
     "output_type": "display_data"
    }
   ],
   "source": [
    "epsilon = [np.average(e) for e in result.get('epsilon_V^0.0(F)_vM').values()]\n",
    "sigma = [np.average(s) for s in result.get('sigma_vM').values()]\n",
    "plt.plot(epsilon, [s/1000000 for s in sigma], label='simulation')\n",
    "plt.plot(ex_epsilon, ex_sigma, label='experiment')\n",
    "plt.xlabel('Strain (-)')\n",
    "plt.ylabel('Stress (MPa)')\n",
    "plt.legend()\n",
    "plt.title('True stress-strain Curve', weight='bold')\n"
   ]
  },
  {
   "cell_type": "markdown",
   "source": [
    "#### 5. Plotting the engineering stress-strain curve of the simulation data"
   ],
   "metadata": {
    "collapsed": false
   },
   "id": "e83bcb2ae5df8afc"
  },
  {
   "cell_type": "code",
   "execution_count": 17,
   "outputs": [
    {
     "name": "stderr",
     "output_type": "stream",
     "text": [
      " ██████████████████████████████████████████████████ 100% ETA 0:00:00\n",
      " ██████████████████████████████████████████████████ 100% ETA 0:00:00\n"
     ]
    },
    {
     "data": {
      "text/plain": "Text(0.5, 1.0, 'Engineering stress-strain Curve')"
     },
     "execution_count": 17,
     "metadata": {},
     "output_type": "execute_result"
    },
    {
     "data": {
      "text/plain": "<Figure size 432x288 with 1 Axes>",
      "image/png": "[encoded data removed]"
     },
     "metadata": {
      "needs_background": "light"
     },
     "output_type": "display_data"
    }
   ],
   "source": [
    "engineering_strain = [np.average(e) for e in result.get('F').values()]\n",
    "engineering_stress = [np.average(s) for s in result.get('P').values()]\n",
    "plt.plot(engineering_strain, engineering_stress)\n",
    "\n",
    "plt.xlabel('Engineering strain (-)')\n",
    "plt.ylabel('Engineering stress (MPa)')\n",
    "plt.title('Engineering stress-strain Curve', weight='bold')"
   ],
   "metadata": {
    "collapsed": false,
    "ExecuteTime": {
     "end_time": "2023-12-15T07:41:26.865398Z",
     "start_time": "2023-12-15T07:41:26.239491Z"
    }
   },
   "id": "7d4406740c135fa3"
  },
  {
   "cell_type": "markdown",
   "source": [
    "#### 6. Exporting the simulation data into VTK format for further visualization using paraview software"
   ],
   "metadata": {
    "collapsed": false
   },
   "id": "b94299bd27895bcd"
  },
  {
   "cell_type": "code",
   "execution_count": 15,
   "outputs": [],
   "source": [
    "result.export_VTK(parallel=False)"
   ],
   "metadata": {
    "collapsed": false,
    "ExecuteTime": {
     "end_time": "2023-12-15T07:40:48.043557Z",
     "start_time": "2023-12-15T07:40:48.039482Z"
    }
   },
   "id": "b95b98bd712f1dcf"
  }
 ],
 "metadata": {
  "kernelspec": {
   "display_name": "Python 3",
   "language": "python",
   "name": "python3"
  },
  "language_info": {
   "codemirror_mode": {
    "name": "ipython",
    "version": 3
   },
   "file_extension": ".py",
   "mimetype": "text/x-python",
   "name": "python",
   "nbconvert_exporter": "python",
   "pygments_lexer": "ipython3",
   "version": "3.10.2"
  }
 },
 "nbformat": 4,
 "nbformat_minor": 5
}
