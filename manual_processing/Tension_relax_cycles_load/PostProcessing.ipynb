{
 "cells": [
  {
   "cell_type": "code",
   "execution_count": 2,
   "id": "initial_id",
   "metadata": {
    "collapsed": true,
    "ExecuteTime": {
     "end_time": "2023-12-15T07:56:00.393888Z",
     "start_time": "2023-12-15T07:55:58.957455Z"
    }
   },
   "outputs": [],
   "source": [
    "import numpy as np\n",
    "import damask\n",
    "import matplotlib.pyplot as plt"
   ]
  },
  {
   "cell_type": "markdown",
   "source": [
    "### Importing the data"
   ],
   "metadata": {
    "collapsed": false
   },
   "id": "11f00435a313b3ef"
  },
  {
   "cell_type": "code",
   "execution_count": 3,
   "outputs": [],
   "source": [
    "from pathlib import Path\n",
    "path = Path()\n",
    "file = path.joinpath('newAL_cyclic_tension_lowres.hdf5')\n",
    "result = damask.Result(file)"
   ],
   "metadata": {
    "collapsed": false,
    "ExecuteTime": {
     "end_time": "2023-12-15T07:56:03.355611Z",
     "start_time": "2023-12-15T07:56:03.299322Z"
    }
   },
   "id": "96bbde620f1d7632"
  },
  {
   "cell_type": "markdown",
   "source": [
    "### Adding the necessary caculation to the result"
   ],
   "metadata": {
    "collapsed": false
   },
   "id": "25828d6ae0537c33"
  },
  {
   "cell_type": "code",
   "execution_count": 4,
   "outputs": [
    {
     "name": "stderr",
     "output_type": "stream",
     "text": [
      " ██████████████████████████████████████████████████ 100% ETA 0:00:00\n",
      " ░░░░░░░░░░░░░░░░░░░░░░░░░░░░░░░░░░░░░░░░░░░░░░░░░░   0% ETA n/a"
     ]
    }
   ],
   "source": [
    "try:\n",
    "    # Try to add the stress Cauchy if it's not in the result\n",
    "    if 'sigma' not in result.get():\n",
    "        result.add_stress_Cauchy()\n",
    "\n",
    "    # Try to add the strain 'F' and 'F_p' if they're not in the result\n",
    "    if 'F' not in result.get():\n",
    "        result.add_strain('F', 'U')\n",
    "    if 'F_p' not in result.get():\n",
    "        result.add_strain('F_p', 'U')\n",
    "\n",
    "    # Try to add the equivalent Mises 'sigma' and 'F' if they're not in the result\n",
    "    if 'sigma_vM' not in result.get():\n",
    "        result.add_equivalent_Mises('sigma')\n",
    "    if 'F_vM' not in result.get():\n",
    "        result.add_equivalent_Mises('F')\n",
    "\n",
    "    # Try to add the strain and strain 'F_p' if they're not in the result\n",
    "    if 'epsilon_V^0.0(F)' not in result.get():\n",
    "        result.add_strain()\n",
    "        result.add_strain('F_p')\n",
    "\n",
    "    # Try to add the equivalent Mises 'epsilon_V^0.0(F)' and 'epsilon_U^0.0(F_p)' if they're not in the result\n",
    "    if 'epsilon_V^0.0(F)_vM' not in result.get():\n",
    "        result.add_equivalent_Mises('epsilon_V^0.0(F)')\n",
    "    if 'epsilon_U^0.0(F_p)_vM' not in result.get():\n",
    "        result.add_equivalent_Mises('epsilon_U^0.0(F_p)')\n",
    "\n",
    "    # Try to add the IPF color if it's not in the result\n",
    "    if 'IPFcolor_(1 0 0)' not in result.get():\n",
    "        result.add_IPF_color(np.array([1,0,0]))\n",
    "except:\n",
    "    pass"
   ],
   "metadata": {
    "collapsed": false,
    "ExecuteTime": {
     "end_time": "2023-12-15T07:58:11.699721Z",
     "start_time": "2023-12-15T07:57:50.348713Z"
    }
   },
   "id": "97f862d740482cc4"
  },
  {
   "cell_type": "markdown",
   "source": [
    "### Plotting the data"
   ],
   "metadata": {
    "collapsed": false
   },
   "id": "bf667c7d97ff3275"
  },
  {
   "cell_type": "code",
   "execution_count": 5,
   "outputs": [
    {
     "name": "stderr",
     "output_type": "stream",
     "text": [
      " ██████████████████████████████████████████████████ 100% ETA 0:00:00\n",
      " ██████████████████████████████████████████████████ 100% ETA 0:00:00\n",
      "No artists with labels found to put in legend.  Note that artists whose label start with an underscore are ignored when legend() is called with no argument.\n"
     ]
    },
    {
     "data": {
      "text/plain": "<Figure size 432x288 with 1 Axes>",
      "image/png": "[encoded data removed]"
     },
     "metadata": {
      "needs_background": "light"
     },
     "output_type": "display_data"
    }
   ],
   "source": [
    "true_stress = [np.average(s) for s in result.get(['sigma_vM']).values()]\n",
    "true_strain = [np.average(s) for s in result.get(['epsilon_V^0.0(F)_vM']).values()]\n",
    "\n",
    "plt.plot(true_strain, true_stress)\n",
    "plt.xlabel('True-strain (-)')\n",
    "plt.ylabel('True-stress (1e8 Pa)')\n",
    "plt.title('True stress-strain curve', weight='bold')\n",
    "plt.legend()\n",
    "plt.show()"
   ],
   "metadata": {
    "collapsed": false,
    "ExecuteTime": {
     "end_time": "2023-12-15T07:58:31.313470Z",
     "start_time": "2023-12-15T07:58:30.565064Z"
    }
   },
   "id": "d287af65b283b4c5"
  },
  {
   "cell_type": "markdown",
   "source": [
    "### Exporting the data into a VTK file for futher visuoalization using Paraview"
   ],
   "metadata": {
    "collapsed": false
   },
   "id": "e49c1a3be4b38207"
  },
  {
   "cell_type": "code",
   "execution_count": null,
   "outputs": [],
   "source": [
    "result.export_VTK(parallel=False)"
   ],
   "metadata": {
    "collapsed": false
   },
   "id": "d7afeb54631e5015"
  }
 ],
 "metadata": {
  "kernelspec": {
   "display_name": "Python 3",
   "language": "python",
   "name": "python3"
  },
  "language_info": {
   "codemirror_mode": {
    "name": "ipython",
    "version": 2
   },
   "file_extension": ".py",
   "mimetype": "text/x-python",
   "name": "python",
   "nbconvert_exporter": "python",
   "pygments_lexer": "ipython2",
   "version": "2.7.6"
  }
 },
 "nbformat": 4,
 "nbformat_minor": 5
}
